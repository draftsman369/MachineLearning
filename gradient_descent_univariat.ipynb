{
 "cells": [
  {
   "cell_type": "code",
   "execution_count": 16,
   "id": "ebfa3527",
   "metadata": {},
   "outputs": [],
   "source": [
    "import numpy as np\n",
    "import math"
   ]
  },
  {
   "cell_type": "code",
   "execution_count": 4,
   "id": "3680475c",
   "metadata": {},
   "outputs": [],
   "source": [
    "x_train = np.array([1.0, 2.0])\n",
    "y_train = np.array([300.0, 500.0])"
   ]
  },
  {
   "cell_type": "code",
   "execution_count": 26,
   "id": "b61d4750",
   "metadata": {},
   "outputs": [],
   "source": [
    "def compute_cost(x, y, w, b):\n",
    "    m = x.shape[0]\n",
    "    cost = 0.0\n",
    "    for i in range(m):\n",
    "        y_hat = w * x[i] + b\n",
    "        cost += (y_hat - y[i]) ** 2\n",
    "    cost /= 2 * m\n",
    "    return cost"
   ]
  },
  {
   "cell_type": "code",
   "execution_count": 27,
   "id": "45965812",
   "metadata": {},
   "outputs": [],
   "source": [
    "def compute_gradient(x, y, w, b):\n",
    "\n",
    "    #do prediction\n",
    "    #dj_dw = sum(y_hat[i] - y[i]) * x[i] / m \n",
    "    #dj_db = sum(y_hat[i] - y[i]) /m\n",
    "\n",
    "    m = x.shape[0]\n",
    "\n",
    "    dj_dw = 0.0\n",
    "    dj_db = 0.0\n",
    "    for i in range(m):\n",
    "        y_hat = w * x[i] + b\n",
    "        dj_dw += (y_hat - y[i]) * x[i]\n",
    "        dj_db += (y_hat - y[i])\n",
    "\n",
    "    dj_dw /= m\n",
    "    dj_db /= m\n",
    "\n",
    "    return dj_dw, dj_db "
   ]
  },
  {
   "cell_type": "code",
   "execution_count": 28,
   "id": "01ac45a5",
   "metadata": {},
   "outputs": [],
   "source": [
    "def gradient_descent(x, y, w_init, b_init, a, num_iters=10000):\n",
    "\n",
    "\n",
    "    m = x.shape[0]\n",
    "    w = w_init\n",
    "    b = b_init\n",
    "    for i in range(num_iters):\n",
    "        dj_dw, dj_db = compute_gradient(x, y, w, b)\n",
    "\n",
    "        w = w - a * dj_dw\n",
    "        b = b - a * dj_db\n",
    "\n",
    "        if i% math.ceil(num_iters/10) == 0:\n",
    "            cost = compute_cost(x, y, w, b)\n",
    "            print(f\"Iteration {i}: Cost = {cost}, w = {w}, b = {b}\")\n",
    "\n",
    "    return w, b\n",
    "    "
   ]
  },
  {
   "cell_type": "code",
   "execution_count": 29,
   "id": "9e37d67d",
   "metadata": {},
   "outputs": [
    {
     "name": "stdout",
     "output_type": "stream",
     "text": [
      "Iteration 0: Cost = 79274.8125, w = 6.5, b = 4.0\n",
      "Iteration 1000: Cost = 3.4125109319154174, w = 194.91482409389593, b = 108.2279874548482\n",
      "Iteration 2000: Cost = 0.7928950684538176, w = 197.5488109193384, b = 103.96610724536305\n",
      "Iteration 3000: Cost = 0.1842287401041018, w = 198.81846212990547, b = 101.91176843280807\n",
      "Iteration 4000: Cost = 0.04280544807338754, w = 199.43046754349498, b = 100.92152287232139\n",
      "Iteration 5000: Cost = 0.0099458226969803, w = 199.72547031523698, b = 100.44419836086742\n",
      "Iteration 6000: Cost = 0.0023109065217603642, w = 199.86766944191632, b = 100.21411534072959\n",
      "Iteration 7000: Cost = 0.0005369378798549629, w = 199.93621317629874, b = 100.1032092487831\n",
      "Iteration 8000: Cost = 0.00012475722583692557, w = 199.9692530664359, b = 100.04974958355662\n",
      "Iteration 9000: Cost = 2.8987273914308145e-05, w = 199.9851791660294, b = 100.0239806131061\n"
     ]
    }
   ],
   "source": [
    "# initialize parameters\n",
    "w_init = 0\n",
    "b_init = 0\n",
    "# some gradient descent settings\n",
    "iterations = 10000\n",
    "tmp_alpha = 1.0e-2\n",
    "# run gradient descent\n",
    "\n",
    "w, b = gradient_descent(x_train, y_train, w_init, b_init, tmp_alpha, iterations)"
   ]
  },
  {
   "cell_type": "code",
   "execution_count": null,
   "id": "d446c5fc",
   "metadata": {},
   "outputs": [],
   "source": []
  },
  {
   "cell_type": "code",
   "execution_count": null,
   "id": "4e7f9f02",
   "metadata": {},
   "outputs": [],
   "source": []
  },
  {
   "cell_type": "code",
   "execution_count": null,
   "id": "0f1ce264",
   "metadata": {},
   "outputs": [],
   "source": []
  }
 ],
 "metadata": {
  "kernelspec": {
   "display_name": "opencv-env",
   "language": "python",
   "name": "python3"
  },
  "language_info": {
   "codemirror_mode": {
    "name": "ipython",
    "version": 3
   },
   "file_extension": ".py",
   "mimetype": "text/x-python",
   "name": "python",
   "nbconvert_exporter": "python",
   "pygments_lexer": "ipython3",
   "version": "3.12.3"
  }
 },
 "nbformat": 4,
 "nbformat_minor": 5
}
